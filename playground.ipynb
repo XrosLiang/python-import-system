{
 "metadata": {
  "language_info": {
   "codemirror_mode": {
    "name": "ipython",
    "version": 3
   },
   "file_extension": ".py",
   "mimetype": "text/x-python",
   "name": "python",
   "nbconvert_exporter": "python",
   "pygments_lexer": "ipython3",
   "version": "3.7.8-final"
  },
  "orig_nbformat": 2,
  "kernelspec": {
   "name": "python3",
   "display_name": "Python 3",
   "language": "python"
  }
 },
 "nbformat": 4,
 "nbformat_minor": 2,
 "cells": [
  {
   "source": [
    "### `None` in sys.modules"
   ],
   "cell_type": "markdown",
   "metadata": {}
  },
  {
   "cell_type": "code",
   "execution_count": 1,
   "metadata": {},
   "outputs": [
    {
     "output_type": "error",
     "ename": "ModuleNotFoundError",
     "evalue": "import of module halted; None in sys.modules",
     "traceback": [
      "\u001b[0;31m---------------------------------------------------------------------------\u001b[0m",
      "\u001b[0;31mModuleNotFoundError\u001b[0m                       Traceback (most recent call last)",
      "\u001b[0;32m<ipython-input-1-20156aa94da0>\u001b[0m in \u001b[0;36m<module>\u001b[0;34m\u001b[0m\n\u001b[1;32m      2\u001b[0m \u001b[0msys\u001b[0m\u001b[0;34m.\u001b[0m\u001b[0mmodules\u001b[0m\u001b[0;34m[\u001b[0m\u001b[0;34m'module'\u001b[0m\u001b[0;34m]\u001b[0m \u001b[0;34m=\u001b[0m \u001b[0;32mNone\u001b[0m\u001b[0;34m\u001b[0m\u001b[0;34m\u001b[0m\u001b[0m\n\u001b[1;32m      3\u001b[0m \u001b[0;34m\u001b[0m\u001b[0m\n\u001b[0;32m----> 4\u001b[0;31m \u001b[0;32mimport\u001b[0m \u001b[0mmodule\u001b[0m\u001b[0;34m\u001b[0m\u001b[0;34m\u001b[0m\u001b[0m\n\u001b[0m",
      "\u001b[0;31mModuleNotFoundError\u001b[0m: import of module halted; None in sys.modules"
     ]
    }
   ],
   "source": [
    "import sys\n",
    "sys.modules['module'] = None\n",
    "\n",
    "import module"
   ]
  },
  {
   "source": [
    "### `sys.meta_path` exhausted"
   ],
   "cell_type": "markdown",
   "metadata": {}
  },
  {
   "source": [
    "del sys.modules['module']\n",
    "del sys.meta_path[:]\n",
    "\n",
    "import module"
   ],
   "cell_type": "code",
   "metadata": {},
   "execution_count": 2,
   "outputs": [
    {
     "output_type": "error",
     "ename": "ModuleNotFoundError",
     "evalue": "No module named 'module'",
     "traceback": [
      "\u001b[0;31m---------------------------------------------------------------------------\u001b[0m",
      "\u001b[0;31mModuleNotFoundError\u001b[0m                       Traceback (most recent call last)",
      "\u001b[0;32m<ipython-input-2-fd1bf8284402>\u001b[0m in \u001b[0;36m<module>\u001b[0;34m\u001b[0m\n\u001b[1;32m      2\u001b[0m \u001b[0;32mdel\u001b[0m \u001b[0msys\u001b[0m\u001b[0;34m.\u001b[0m\u001b[0mmeta_path\u001b[0m\u001b[0;34m[\u001b[0m\u001b[0;34m:\u001b[0m\u001b[0;34m]\u001b[0m\u001b[0;34m\u001b[0m\u001b[0;34m\u001b[0m\u001b[0m\n\u001b[1;32m      3\u001b[0m \u001b[0;34m\u001b[0m\u001b[0m\n\u001b[0;32m----> 4\u001b[0;31m \u001b[0;32mimport\u001b[0m \u001b[0mmodule\u001b[0m\u001b[0;34m\u001b[0m\u001b[0;34m\u001b[0m\u001b[0m\n\u001b[0m",
      "\u001b[0;31mModuleNotFoundError\u001b[0m: No module named 'module'"
     ]
    }
   ]
  },
  {
   "source": [
    "### Spec's loader is `None`"
   ],
   "cell_type": "markdown",
   "metadata": {}
  },
  {
   "cell_type": "code",
   "execution_count": 7,
   "metadata": {},
   "outputs": [
    {
     "output_type": "error",
     "ename": "ImportError",
     "evalue": "missing loader",
     "traceback": [
      "\u001b[0;31m---------------------------------------------------------------------------\u001b[0m",
      "\u001b[0;31mImportError\u001b[0m                               Traceback (most recent call last)",
      "\u001b[0;32m<ipython-input-7-85f7fa80cfc0>\u001b[0m in \u001b[0;36m<module>\u001b[0;34m\u001b[0m\n\u001b[1;32m      9\u001b[0m \u001b[0msys\u001b[0m\u001b[0;34m.\u001b[0m\u001b[0mmeta_path\u001b[0m \u001b[0;34m=\u001b[0m \u001b[0;34m[\u001b[0m\u001b[0mfinder\u001b[0m\u001b[0;34m]\u001b[0m\u001b[0;34m\u001b[0m\u001b[0;34m\u001b[0m\u001b[0m\n\u001b[1;32m     10\u001b[0m \u001b[0;34m\u001b[0m\u001b[0m\n\u001b[0;32m---> 11\u001b[0;31m \u001b[0;32mimport\u001b[0m \u001b[0mmodule\u001b[0m\u001b[0;34m\u001b[0m\u001b[0;34m\u001b[0m\u001b[0m\n\u001b[0m",
      "\u001b[0;31mImportError\u001b[0m: missing loader"
     ]
    }
   ],
   "source": [
    "from importlib.abc import MetaPathFinder\n",
    "from importlib.machinery import ModuleSpec\n",
    "\n",
    "class NoLoaderFinder(MetaPathFinder):\n",
    "    def find_spec(self, fullname, path, target=None):\n",
    "        return ModuleSpec('module', None)\n",
    "\n",
    "finder = NoLoaderFinder()\n",
    "sys.meta_path = [finder]\n",
    "\n",
    "import module"
   ]
  },
  {
   "source": [
    "### Regular loader"
   ],
   "cell_type": "markdown",
   "metadata": {}
  },
  {
   "cell_type": "code",
   "execution_count": 17,
   "metadata": {},
   "outputs": [
    {
     "output_type": "stream",
     "name": "stdout",
     "text": [
      "module <module 'module' (<__main__.ExampleLoader object at 0x7f782ed6e3d0>)>\nmodule.name module\nmodule.x 1\nmodule.y 2\n----------\nmodule2 is module? False\nmodule2 <module 'module' (<__main__.ExampleLoader object at 0x7f782deab5d0>)>\nmodule2.name module\nmodule2.x 1\nmodule2.y 2\n"
     ]
    }
   ],
   "source": [
    "from types import ModuleType\n",
    "from importlib.abc import Loader\n",
    "\n",
    "class Module(ModuleType):\n",
    "    def __init__(self, name):\n",
    "        self.x = 1\n",
    "        self.name = name\n",
    "\n",
    "class ExampleLoader(Loader):\n",
    "    def create_module(self, spec):\n",
    "        return Module(spec.name)\n",
    "\n",
    "    def exec_module(self, module):\n",
    "        module.y = 2\n",
    "\n",
    "class ExampleFinder(MetaPathFinder):\n",
    "    def find_spec(self, fullname, path, target=None):\n",
    "        return ModuleSpec('module', ExampleLoader())\n",
    "\n",
    "sys.meta_path = [ExampleFinder()]\n",
    "\n",
    "import module\n",
    "print('module', module)\n",
    "print('module.name', module.name)\n",
    "print('module.x', module.x)\n",
    "print('module.y', module.y)\n",
    "\n",
    "del sys.modules['module']\n",
    "\n",
    "print('-' * 10)\n",
    "module2 = __import__('module')\n",
    "\n",
    "print('module2 is module?', module2 is module)\n",
    "print('module2', module2)\n",
    "print('module2.name', module2.name)\n",
    "print('module2.x', module2.x)\n",
    "print('module2.y', module2.y)\n",
    "\n"
   ]
  }
 ]
}